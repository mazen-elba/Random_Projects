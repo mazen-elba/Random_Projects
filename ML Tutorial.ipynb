{
 "cells": [
  {
   "cell_type": "markdown",
   "metadata": {},
   "source": [
    "# Step 1 - Importing the Dataset\n",
    "- Dataset: Breast Cancer Wisconsin Diagnostic Database\n",
    "- Dataset includes various information about breast cancer tumors, as well as classification labels of malignant or benign.\n",
    "- Dataset has 569 instances/data on 569 tumors, and includes information on 30 attributes/features.\n",
    "- Task: predict whether or not a tumor is malignant or benign.\n",
    "- Attributes capture important characteristics anout the nature of the data.\n",
    "- Given the label to be predicted (malignant vs benign), useful attributes include the size, radius, and texture of the tumor.\n",
    "- Create new variables for each import set of information and assign the data; result in lists for each set of information."
   ]
  },
  {
   "cell_type": "code",
   "execution_count": 1,
   "metadata": {},
   "outputs": [
    {
     "name": "stdout",
     "output_type": "stream",
     "text": [
      "['malignant' 'benign']\n",
      "0\n",
      "mean radius\n",
      "[1.799e+01 1.038e+01 1.228e+02 1.001e+03 1.184e-01 2.776e-01 3.001e-01\n",
      " 1.471e-01 2.419e-01 7.871e-02 1.095e+00 9.053e-01 8.589e+00 1.534e+02\n",
      " 6.399e-03 4.904e-02 5.373e-02 1.587e-02 3.003e-02 6.193e-03 2.538e+01\n",
      " 1.733e+01 1.846e+02 2.019e+03 1.622e-01 6.656e-01 7.119e-01 2.654e-01\n",
      " 4.601e-01 1.189e-01]\n"
     ]
    }
   ],
   "source": [
    "import sklearn\n",
    "from sklearn.datasets import load_breast_cancer\n",
    "\n",
    "# Load dataset\n",
    "data = load_breast_cancer()            # dictionary object\n",
    "\n",
    "# Organize data\n",
    "label_names = data['target_names']     # label names - list object\n",
    "labels = data['target']                # actual labels - list object\n",
    "feature_names = data['feature_names']  # attribute names - list object\n",
    "features = data['data']                # attributes - list object\n",
    "\n",
    "# Look at data\n",
    "print(label_names)\n",
    "print(labels[0])\n",
    "print(feature_names[0])\n",
    "print(features[0])"
   ]
  },
  {
   "cell_type": "markdown",
   "metadata": {},
   "source": [
    "- Result shows that the class names are malignant and benign, which are then mapped to binary values of 0 and 1 (0 represents malignant tumors, and 1 represents benign tumors)."
   ]
  },
  {
   "cell_type": "markdown",
   "metadata": {},
   "source": [
    "# Step 2 - Organizing Data into Sets\n",
    "- To evaluate how well a classifier is performing, always test the model on unseen data.\n",
    "- Before building a model, split the data into two parts: a training set and a test set.\n",
    "- Use the training set to train and evaluate the model during the development stage\n",
    "- Use the trained model to make predictions on the unseen test set; this gives a sense of the model's performance and robustness."
   ]
  },
  {
   "cell_type": "code",
   "execution_count": 2,
   "metadata": {},
   "outputs": [],
   "source": [
    "from sklearn.model_selection import train_test_split\n",
    "\n",
    "# Split data\n",
    "train, test, train_labels, test_labels = train_test_split(features, labels,\n",
    "                                                          test_size=0.33,\n",
    "                                                          random_state=42)"
   ]
  },
  {
   "cell_type": "markdown",
   "metadata": {},
   "source": [
    "- The train_test_split() function randomly splits the data using the test_size parameter.\n",
    "- The test set represents 33% of the original dataset; the reminaing data makes up the training data."
   ]
  },
  {
   "cell_type": "markdown",
   "metadata": {},
   "source": [
    "# Step 3 - Building and Evaluating the Model\n",
    "- Naive Bayes (NB) classifier algorithm usually performs well in binary classification tasks.\n",
    "- After training the model, use the trained model to make prediction on the test set (using predict() function).\n",
    "- The predict() function returns an array of predictions for each data instance in the test set\n",
    "- Print the results."
   ]
  },
  {
   "cell_type": "code",
   "execution_count": 3,
   "metadata": {},
   "outputs": [
    {
     "name": "stdout",
     "output_type": "stream",
     "text": [
      "[1 0 0 1 1 0 0 0 1 1 1 0 1 0 1 0 1 1 1 0 1 1 0 1 1 1 1 1 1 0 1 1 1 1 1 1 0\n",
      " 1 0 1 1 0 1 1 1 1 1 1 1 1 0 0 1 1 1 1 1 0 0 1 1 0 0 1 1 1 0 0 1 1 0 0 1 0\n",
      " 1 1 1 1 1 1 0 1 1 0 0 0 0 0 1 1 1 1 1 1 1 1 0 0 1 0 0 1 0 0 1 1 1 0 1 1 0\n",
      " 1 1 0 0 0 1 1 1 0 0 1 1 0 1 0 0 1 1 0 0 0 1 1 1 0 1 1 0 0 1 0 1 1 0 1 0 0\n",
      " 1 1 1 1 1 1 1 0 0 1 1 1 1 1 1 1 1 1 1 1 1 0 0 1 1 0 1 1 0 1 1 1 1 1 1 0 0\n",
      " 0 1 1]\n"
     ]
    }
   ],
   "source": [
    "from sklearn.naive_bayes import GaussianNB\n",
    "\n",
    "# Initialize classifier\n",
    "gnb = GaussianNB()\n",
    "\n",
    "# Train classifier - fit model to data\n",
    "model = gnb.fit(train, train_labels)\n",
    "\n",
    "# Make predictions - use trained model on test set\n",
    "preds = gnb.predict(test)\n",
    "print(preds)"
   ]
  },
  {
   "cell_type": "markdown",
   "metadata": {},
   "source": [
    "- The predict() function returns an array of 0s and 1s, which represent the predicted values for the tumor class (malignant vs benign)."
   ]
  },
  {
   "cell_type": "markdown",
   "metadata": {},
   "source": [
    "# Step 4 - Evaluating Model's Accuracy\n",
    "- Using the array of true class labels, evaluate the accuracy of the model's predicted values by comparing the two arrays (test_labels vs preds)."
   ]
  },
  {
   "cell_type": "code",
   "execution_count": 4,
   "metadata": {},
   "outputs": [
    {
     "name": "stdout",
     "output_type": "stream",
     "text": [
      "0.9414893617021277\n"
     ]
    }
   ],
   "source": [
    "from sklearn.metrics import accuracy_score\n",
    "\n",
    "# Evaluate accuracy\n",
    "print(accuracy_score(test_labels, preds))"
   ]
  },
  {
   "cell_type": "markdown",
   "metadata": {},
   "source": [
    "- Output suggests that the NB classifier is 94.15% accurate, which means that 94.15 percent of the time the classifier is able to make the correct prediction as to whether or not the tumor is malignant or benign.\n",
    "- These results suggest that out feature set of 30 attributes are good indicators of tumor class."
   ]
  },
  {
   "cell_type": "code",
   "execution_count": null,
   "metadata": {},
   "outputs": [],
   "source": []
  }
 ],
 "metadata": {
  "kernelspec": {
   "display_name": "Python 3",
   "language": "python",
   "name": "python3"
  },
  "language_info": {
   "codemirror_mode": {
    "name": "ipython",
    "version": 3
   },
   "file_extension": ".py",
   "mimetype": "text/x-python",
   "name": "python",
   "nbconvert_exporter": "python",
   "pygments_lexer": "ipython3",
   "version": "3.6.9"
  }
 },
 "nbformat": 4,
 "nbformat_minor": 4
}
